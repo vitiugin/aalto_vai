{
 "cells": [
  {
   "cell_type": "markdown",
   "metadata": {},
   "source": [
    "## QA summaritzation\n",
    "\n",
    "1. Convert data (answer source) to embeddings.\n",
    "2. Convert questions to embeddings.\n",
    "3. Calculate similarity between question and probable answers.\n",
    "4. Extract top-k most relevant texts (with higher similarity).\n",
    "5. Generate answer with use of pre-trained lamguage model (T5)."
   ]
  },
  {
   "cell_type": "code",
   "execution_count": null,
   "metadata": {},
   "outputs": [],
   "source": [
    "# load dataset with possible answers\n",
    "\n",
    "import pandas as pd\n",
    "\n",
    "df = pd.read_csv('data/migri_data.csv')\n",
    "df.shape"
   ]
  },
  {
   "cell_type": "code",
   "execution_count": null,
   "metadata": {},
   "outputs": [],
   "source": [
    "# filter non-relevant texts (like questions or intoduction)\n",
    "answer_texts = []\n",
    "for text in df.text:\n",
    "    if text[-1] != ':':\n",
    "        answer_texts.append(text)\n",
    "\n",
    "len(answer_texts) # number of texts"
   ]
  },
  {
   "cell_type": "code",
   "execution_count": null,
   "metadata": {},
   "outputs": [],
   "source": [
    "# load embeddings model\n",
    "\n",
    "from sentence_transformers import SentenceTransformer\n",
    "emb_model = SentenceTransformer(\"all-MiniLM-L6-v2\")"
   ]
  },
  {
   "cell_type": "code",
   "execution_count": null,
   "metadata": {},
   "outputs": [],
   "source": [
    "# convert texts to embeddings\n",
    "\n",
    "embeddings = emb_model.encode(answer_texts)"
   ]
  },
  {
   "cell_type": "code",
   "execution_count": null,
   "metadata": {},
   "outputs": [],
   "source": [
    "# Convert question to embeddings\n",
    "question = 'How can I get Finnish citizenship?'\n",
    "q_emb = emb_model.encode([question])"
   ]
  },
  {
   "cell_type": "markdown",
   "metadata": {},
   "source": [
    "### Similarity calculation"
   ]
  },
  {
   "cell_type": "code",
   "execution_count": null,
   "metadata": {},
   "outputs": [],
   "source": [
    "# calculate cosine similarity betweet data and question\n",
    "\n",
    "from sklearn.metrics.pairwise import cosine_similarity\n",
    "\n",
    "cosine_similarity([q_emb[0]], [embeddings[4]])[0][0]\n",
    "\n",
    "similarity = {}\n",
    "for num, emb in enumerate(embeddings):\n",
    "    similarity[num] = cosine_similarity([q_emb[0]], [embeddings[num]])[0][0]"
   ]
  },
  {
   "cell_type": "code",
   "execution_count": null,
   "metadata": {},
   "outputs": [],
   "source": [
    "similarity"
   ]
  },
  {
   "cell_type": "code",
   "execution_count": null,
   "metadata": {},
   "outputs": [],
   "source": [
    "# sort possible answers by similarity score\n",
    "sorted_x = sorted(similarity.items(), key=lambda kv: kv[1], reverse=True)\n",
    "sorted_x"
   ]
  },
  {
   "cell_type": "markdown",
   "metadata": {},
   "source": [
    "### Source of the possible answer"
   ]
  },
  {
   "cell_type": "code",
   "execution_count": null,
   "metadata": {},
   "outputs": [],
   "source": [
    "# collect indexes of the most relevant texts\n",
    "answers_index = [i[0] for i in sorted_x[:10]]\n",
    "answers_index"
   ]
  },
  {
   "cell_type": "code",
   "execution_count": null,
   "metadata": {},
   "outputs": [],
   "source": [
    "# create bulk answer text from the most relevant texts\n",
    "text_answer = ''\n",
    "for i in answers_index:\n",
    "    text_answer += ' ' + str(answer_texts[i])"
   ]
  },
  {
   "cell_type": "code",
   "execution_count": null,
   "metadata": {},
   "outputs": [],
   "source": [
    "len(text_answer)"
   ]
  },
  {
   "cell_type": "markdown",
   "metadata": {},
   "source": [
    "### Generation"
   ]
  },
  {
   "cell_type": "code",
   "execution_count": null,
   "metadata": {},
   "outputs": [],
   "source": [
    "# loading decoder model\n",
    "from transformers import AutoTokenizer, AutoModelWithLMHead\n",
    "\n",
    "tokenizer=AutoTokenizer.from_pretrained('T5-small')\n",
    "model=AutoModelWithLMHead.from_pretrained('T5-small', return_dict=True)"
   ]
  },
  {
   "cell_type": "code",
   "execution_count": null,
   "metadata": {},
   "outputs": [],
   "source": [
    "# encode source answer text\n",
    "inputs = tokenizer.encode(\"sumarize: \" + text_answer, return_tensors='pt', max_length=512, truncation=True)"
   ]
  },
  {
   "cell_type": "code",
   "execution_count": null,
   "metadata": {},
   "outputs": [],
   "source": [
    "# generate answer\n",
    "output = model.generate(inputs, min_length=80, max_length=100)"
   ]
  },
  {
   "cell_type": "code",
   "execution_count": null,
   "metadata": {},
   "outputs": [],
   "source": [
    "# decode and print the answer\n",
    "summary=tokenizer.decode(output[0])\n",
    "print(summary)"
   ]
  }
 ],
 "metadata": {
  "kernelspec": {
   "display_name": "vai_lab",
   "language": "python",
   "name": "python3"
  },
  "language_info": {
   "codemirror_mode": {
    "name": "ipython",
    "version": 3
   },
   "file_extension": ".py",
   "mimetype": "text/x-python",
   "name": "python",
   "nbconvert_exporter": "python",
   "pygments_lexer": "ipython3",
   "version": "3.8.18"
  }
 },
 "nbformat": 4,
 "nbformat_minor": 2
}
